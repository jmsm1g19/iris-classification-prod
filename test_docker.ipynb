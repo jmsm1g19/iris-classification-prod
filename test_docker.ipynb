{
 "cells": [
  {
   "cell_type": "code",
   "execution_count": 4,
   "metadata": {},
   "outputs": [
    {
     "name": "stdout",
     "output_type": "stream",
     "text": [
      "{'prediction': 'I. virginica'}\n"
     ]
    }
   ],
   "source": [
    "import requests\n",
    "\n",
    "url = 'http://0.0.0.0:8000/which_species_is_this'\n",
    "\n",
    "data = {\n",
    "  \"sepal_len\": 6.1,\n",
    "  \"sepal_wid\": 2.7,\n",
    "  \"petal_len\": 5.1,\n",
    "  \"petal_wid\": 1.6\n",
    "}\n",
    "\n",
    "\n",
    "response = requests.post(url, json=data)\n",
    "print(response.json())\n"
   ]
  },
  {
   "cell_type": "markdown",
   "metadata": {},
   "source": [
    "Alterinatively use curl\n",
    "\n",
    "\n",
    "curl -X POST http://localhost:8000/which_species_is_this \\\n",
    "     -H \"Content-Type: application/json\" \\\n",
    "     -d '{\"sepal_len\": 6.1, \"sepal_wid\": 2.7, \"petal_len\": 5.1, \"petal_wid\": 1.6}'\n"
   ]
  }
 ],
 "metadata": {
  "kernelspec": {
   "display_name": "iris",
   "language": "python",
   "name": "python3"
  },
  "language_info": {
   "codemirror_mode": {
    "name": "ipython",
    "version": 3
   },
   "file_extension": ".py",
   "mimetype": "text/x-python",
   "name": "python",
   "nbconvert_exporter": "python",
   "pygments_lexer": "ipython3",
   "version": "3.12.7"
  }
 },
 "nbformat": 4,
 "nbformat_minor": 2
}
